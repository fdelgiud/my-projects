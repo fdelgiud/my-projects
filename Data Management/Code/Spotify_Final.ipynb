{
 "cells": [
  {
   "cell_type": "code",
   "execution_count": 8,
   "id": "5d817c33",
   "metadata": {},
   "outputs": [],
   "source": [
    "import pandas as pd"
   ]
  },
  {
   "cell_type": "markdown",
   "id": "bbaec054",
   "metadata": {},
   "source": [
    "#### Code to merge the dataframes of spotify with the dataframe of the music awards"
   ]
  },
  {
   "cell_type": "code",
   "execution_count": 9,
   "id": "a18dc6f6",
   "metadata": {},
   "outputs": [],
   "source": [
    "album_spotify=pd.read_csv(\"album_spotify.csv\")\n",
    "artist_spotify=pd.read_csv(\"artist_spotify.csv\")\n",
    "song_spotify=pd.read_csv(\"song_spotify.csv\")\n",
    "main_categories=pd.read_csv(\"Main_categories_short.csv\")"
   ]
  },
  {
   "cell_type": "code",
   "execution_count": 10,
   "id": "d26b9044",
   "metadata": {},
   "outputs": [
    {
     "name": "stderr",
     "output_type": "stream",
     "text": [
      "C:\\Users\\fspor\\AppData\\Local\\Temp\\ipykernel_7544\\3209123598.py:2: SettingWithCopyWarning: \n",
      "A value is trying to be set on a copy of a slice from a DataFrame.\n",
      "Try using .loc[row_indexer,col_indexer] = value instead\n",
      "\n",
      "See the caveats in the documentation: https://pandas.pydata.org/pandas-docs/stable/user_guide/indexing.html#returning-a-view-versus-a-copy\n",
      "  album[\"Category\"]=\"Top Album\"\n",
      "C:\\Users\\fspor\\AppData\\Local\\Temp\\ipykernel_7544\\3209123598.py:6: SettingWithCopyWarning: \n",
      "A value is trying to be set on a copy of a slice from a DataFrame.\n",
      "Try using .loc[row_indexer,col_indexer] = value instead\n",
      "\n",
      "See the caveats in the documentation: https://pandas.pydata.org/pandas-docs/stable/user_guide/indexing.html#returning-a-view-versus-a-copy\n",
      "  artist[\"Category\"]=\"Top Artist\"\n",
      "C:\\Users\\fspor\\AppData\\Local\\Temp\\ipykernel_7544\\3209123598.py:10: SettingWithCopyWarning: \n",
      "A value is trying to be set on a copy of a slice from a DataFrame.\n",
      "Try using .loc[row_indexer,col_indexer] = value instead\n",
      "\n",
      "See the caveats in the documentation: https://pandas.pydata.org/pandas-docs/stable/user_guide/indexing.html#returning-a-view-versus-a-copy\n",
      "  song[\"Category\"]=\"Top Song\"\n"
     ]
    }
   ],
   "source": [
    "album=album_spotify[[\"Year\",\"Album\"]]\n",
    "album[\"Category\"]=\"Top Album\"\n",
    "album = album.rename(columns={'Album': 'Most Streamed'})\n",
    "\n",
    "artist=artist_spotify[[\"Year\",\"Artist\"]]\n",
    "artist[\"Category\"]=\"Top Artist\"\n",
    "artist = artist.rename(columns={'Artist': 'Most Streamed'})\n",
    "\n",
    "song=song_spotify[[\"Year\",\"Song\"]]\n",
    "song[\"Category\"]=\"Top Song\"\n",
    "song = song.rename(columns={'Song': 'Most Streamed'})"
   ]
  },
  {
   "cell_type": "code",
   "execution_count": 11,
   "id": "5a215a39",
   "metadata": {},
   "outputs": [
    {
     "data": {
      "text/html": [
       "<div>\n",
       "<style scoped>\n",
       "    .dataframe tbody tr th:only-of-type {\n",
       "        vertical-align: middle;\n",
       "    }\n",
       "\n",
       "    .dataframe tbody tr th {\n",
       "        vertical-align: top;\n",
       "    }\n",
       "\n",
       "    .dataframe thead th {\n",
       "        text-align: right;\n",
       "    }\n",
       "</style>\n",
       "<table border=\"1\" class=\"dataframe\">\n",
       "  <thead>\n",
       "    <tr style=\"text-align: right;\">\n",
       "      <th></th>\n",
       "      <th>Year</th>\n",
       "      <th>Most Streamed</th>\n",
       "      <th>Category</th>\n",
       "    </tr>\n",
       "  </thead>\n",
       "  <tbody>\n",
       "    <tr>\n",
       "      <th>0</th>\n",
       "      <td>2023</td>\n",
       "      <td>Un Verano Sin Ti</td>\n",
       "      <td>Top Album</td>\n",
       "    </tr>\n",
       "    <tr>\n",
       "      <th>1</th>\n",
       "      <td>2022</td>\n",
       "      <td>Un Verano Sin Ti</td>\n",
       "      <td>Top Album</td>\n",
       "    </tr>\n",
       "    <tr>\n",
       "      <th>2</th>\n",
       "      <td>2021</td>\n",
       "      <td>Sour</td>\n",
       "      <td>Top Album</td>\n",
       "    </tr>\n",
       "    <tr>\n",
       "      <th>3</th>\n",
       "      <td>2020</td>\n",
       "      <td>YHLQMDLG</td>\n",
       "      <td>Top Album</td>\n",
       "    </tr>\n",
       "    <tr>\n",
       "      <th>4</th>\n",
       "      <td>2019</td>\n",
       "      <td>When We All Fall Asleep, Where Do We Go?</td>\n",
       "      <td>Top Album</td>\n",
       "    </tr>\n",
       "  </tbody>\n",
       "</table>\n",
       "</div>"
      ],
      "text/plain": [
       "   Year                             Most Streamed   Category\n",
       "0  2023                          Un Verano Sin Ti  Top Album\n",
       "1  2022                          Un Verano Sin Ti  Top Album\n",
       "2  2021                                      Sour  Top Album\n",
       "3  2020                                  YHLQMDLG  Top Album\n",
       "4  2019  When We All Fall Asleep, Where Do We Go?  Top Album"
      ]
     },
     "execution_count": 11,
     "metadata": {},
     "output_type": "execute_result"
    }
   ],
   "source": [
    "spotify=pd.concat([album,song,artist])\n",
    "spotify = spotify.loc[spotify['Year'] != 2012]\n",
    "spotify.head()\n"
   ]
  },
  {
   "cell_type": "code",
   "execution_count": 12,
   "id": "f71d75f7",
   "metadata": {},
   "outputs": [
    {
     "data": {
      "text/html": [
       "<div>\n",
       "<style scoped>\n",
       "    .dataframe tbody tr th:only-of-type {\n",
       "        vertical-align: middle;\n",
       "    }\n",
       "\n",
       "    .dataframe tbody tr th {\n",
       "        vertical-align: top;\n",
       "    }\n",
       "\n",
       "    .dataframe thead th {\n",
       "        text-align: right;\n",
       "    }\n",
       "</style>\n",
       "<table border=\"1\" class=\"dataframe\">\n",
       "  <thead>\n",
       "    <tr style=\"text-align: right;\">\n",
       "      <th></th>\n",
       "      <th>Year</th>\n",
       "      <th>Category</th>\n",
       "      <th>Winner_AMA</th>\n",
       "      <th>Winner_BMA</th>\n",
       "      <th>Winner_GA</th>\n",
       "      <th>Most Streamed</th>\n",
       "    </tr>\n",
       "  </thead>\n",
       "  <tbody>\n",
       "    <tr>\n",
       "      <th>0</th>\n",
       "      <td>2013</td>\n",
       "      <td>Top Album</td>\n",
       "      <td>NaN</td>\n",
       "      <td>Red</td>\n",
       "      <td>Random Access Memories</td>\n",
       "      <td>The Heist</td>\n",
       "    </tr>\n",
       "    <tr>\n",
       "      <th>1</th>\n",
       "      <td>2013</td>\n",
       "      <td>Top Album</td>\n",
       "      <td>NaN</td>\n",
       "      <td>NaN</td>\n",
       "      <td>NaN</td>\n",
       "      <td>The Heist</td>\n",
       "    </tr>\n",
       "    <tr>\n",
       "      <th>2</th>\n",
       "      <td>2014</td>\n",
       "      <td>Top Album</td>\n",
       "      <td>NaN</td>\n",
       "      <td>The 20/20 Experience</td>\n",
       "      <td>Morning Phase</td>\n",
       "      <td>×</td>\n",
       "    </tr>\n",
       "    <tr>\n",
       "      <th>3</th>\n",
       "      <td>2014</td>\n",
       "      <td>Top Album</td>\n",
       "      <td>NaN</td>\n",
       "      <td>NaN</td>\n",
       "      <td>NaN</td>\n",
       "      <td>×</td>\n",
       "    </tr>\n",
       "    <tr>\n",
       "      <th>4</th>\n",
       "      <td>2015</td>\n",
       "      <td>Top Album</td>\n",
       "      <td>NaN</td>\n",
       "      <td>1989</td>\n",
       "      <td>1989</td>\n",
       "      <td>Beauty Behind the Madness</td>\n",
       "    </tr>\n",
       "  </tbody>\n",
       "</table>\n",
       "</div>"
      ],
      "text/plain": [
       "   Year   Category Winner_AMA             Winner_BMA               Winner_GA  \\\n",
       "0  2013  Top Album        NaN                   Red   Random Access Memories   \n",
       "1  2013  Top Album        NaN                    NaN                     NaN   \n",
       "2  2014  Top Album        NaN  The 20/20 Experience            Morning Phase   \n",
       "3  2014  Top Album        NaN                    NaN                     NaN   \n",
       "4  2015  Top Album        NaN                  1989                     1989   \n",
       "\n",
       "               Most Streamed  \n",
       "0                  The Heist  \n",
       "1                  The Heist  \n",
       "2                          ×  \n",
       "3                          ×  \n",
       "4  Beauty Behind the Madness  "
      ]
     },
     "execution_count": 12,
     "metadata": {},
     "output_type": "execute_result"
    }
   ],
   "source": [
    "final=pd.merge(main_categories, spotify, on=[\"Year\",\"Category\"])\n",
    "final = final.drop(columns=['Unnamed: 0'])\n",
    "final.head()"
   ]
  },
  {
   "cell_type": "code",
   "execution_count": 13,
   "id": "3bde72d4",
   "metadata": {},
   "outputs": [],
   "source": [
    "spotify.to_csv('spotify.csv', index=False) \n",
    "final.to_csv('final.csv', index=False) "
   ]
  },
  {
   "cell_type": "markdown",
   "id": "21ba93cb",
   "metadata": {},
   "source": [
    "Select the rows with the same winners"
   ]
  },
  {
   "cell_type": "code",
   "execution_count": 15,
   "id": "56ab1e77",
   "metadata": {},
   "outputs": [
    {
     "name": "stdout",
     "output_type": "stream",
     "text": [
      "0                                                    []\n",
      "1                                                    []\n",
      "2                                                    []\n",
      "3                                                    []\n",
      "4                                                    []\n",
      "5                                                    []\n",
      "6                                                    []\n",
      "7                                                    []\n",
      "8                                                    []\n",
      "9                                                    []\n",
      "10                                                   []\n",
      "11                                                   []\n",
      "12    [(Winner_GA, Most Streamed, When We All Fall A...\n",
      "13                                                   []\n",
      "14                                                   []\n",
      "15                                                   []\n",
      "16                                                   []\n",
      "17                                                   []\n",
      "18                                                   []\n",
      "19                                                   []\n",
      "20                                                   []\n",
      "21                                                   []\n",
      "22    [(Winner_AMA, Winner_BMA, Taylor Swift), (Winn...\n",
      "23                                                   []\n",
      "24                                                   []\n",
      "25                                                   []\n",
      "26                                                   []\n",
      "27                                                   []\n",
      "28                                                   []\n",
      "29                                                   []\n",
      "30                                                   []\n",
      "31                                                   []\n",
      "32    [(Winner_BMA, Most Streamed, Taylor Swift), (M...\n",
      "dtype: object\n"
     ]
    }
   ],
   "source": [
    "def find_duplicate_values(row):\n",
    "    duplicates = []\n",
    "    for col1 in final.columns:\n",
    "        for col2 in final.columns:\n",
    "            if col1 != col2 and row[col1] == row[col2]:\n",
    "                duplicates.append((col1, col2, row[col1]))\n",
    "    return duplicates\n",
    "\n",
    "\n",
    "result = final.apply(find_duplicate_values, axis=1)\n",
    "print(result)"
   ]
  }
 ],
 "metadata": {
  "kernelspec": {
   "display_name": "Python 3 (ipykernel)",
   "language": "python",
   "name": "python3"
  },
  "language_info": {
   "codemirror_mode": {
    "name": "ipython",
    "version": 3
   },
   "file_extension": ".py",
   "mimetype": "text/x-python",
   "name": "python",
   "nbconvert_exporter": "python",
   "pygments_lexer": "ipython3",
   "version": "3.11.4"
  }
 },
 "nbformat": 4,
 "nbformat_minor": 5
}
