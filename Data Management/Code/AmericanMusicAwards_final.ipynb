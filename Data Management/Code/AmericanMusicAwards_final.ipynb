{
 "cells": [
  {
   "cell_type": "markdown",
   "id": "e3a0b727",
   "metadata": {},
   "source": [
    "# American Music Awards"
   ]
  },
  {
   "cell_type": "code",
   "execution_count": 3,
   "id": "811dc030",
   "metadata": {},
   "outputs": [],
   "source": [
    "import requests\n",
    "from bs4 import BeautifulSoup\n",
    "import pandas as pd\n",
    "\n",
    "def scrape_second_table_2(url, year):\n",
    "    response = requests.get(url)\n",
    "    \n",
    "    if response.status_code == 200:\n",
    "        soup = BeautifulSoup(response.content, 'html.parser')\n",
    "        tables = soup.find_all('table')\n",
    "        \n",
    "        if len(tables) >= 4:\n",
    "            second_table = tables[3]\n",
    "            data = []\n",
    "            \n",
    "            rows = second_table.find_all('tr')\n",
    "            for i in range(len(rows)):\n",
    "                row_text = rows[i].get_text().strip().split('\\n')\n",
    "                \n",
    "                if i % 2 == 0:\n",
    "                    categories = [category.strip() for category in row_text if category.strip()]\n",
    "                else:\n",
    "                    cells = rows[i].find_all(['td', 'th'])\n",
    "                    \n",
    "                    winner_1 = ''\n",
    "                    winner_2 = ''\n",
    "                    \n",
    "                    if len(cells) >= 2:\n",
    "                        winner_1_tag = cells[0].find('b')\n",
    "                        winner_2_tag = cells[1].find('b')\n",
    "                        \n",
    "                        if winner_1_tag:\n",
    "                            winner_1 = winner_1_tag.get_text().strip()\n",
    "                        if winner_2_tag:\n",
    "                            winner_2 = winner_2_tag.get_text().strip()\n",
    "                    elif len(cells) == 1:\n",
    "                        bold_winner_tag = cells[0].find('b')\n",
    "                        if bold_winner_tag:\n",
    "                            winner_1 = bold_winner_tag.get_text().strip()\n",
    "                        \n",
    "                    for idx, category in enumerate(categories):\n",
    "                        if idx % 2 == 0:\n",
    "                            winner = winner_1\n",
    "                        else:\n",
    "                            winner = winner_2\n",
    "                        data.append({'Category': category, 'Winner': winner, 'Year': year})\n",
    "            \n",
    "            df = pd.DataFrame(data)\n",
    "            return df\n",
    "        else:\n",
    "            print('Non è stata trovata una quarta tabella sulla pagina.')\n",
    "            return None\n",
    "    else:\n",
    "        print('Errore nella richiesta HTTP:', response.status_code)\n",
    "        return None\n",
    "\n",
    "urls = [\n",
    "    'https://en.wikipedia.org/wiki/American_Music_Awards_of_2013',\n",
    "    'https://en.wikipedia.org/wiki/American_Music_Awards_of_2014',\n",
    "    'https://en.wikipedia.org/wiki/American_Music_Awards_of_2015',\n",
    "    'https://en.wikipedia.org/wiki/American_Music_Awards_of_2016',\n",
    "    'https://en.wikipedia.org/wiki/American_Music_Awards_of_2017',\n",
    "    'https://en.wikipedia.org/wiki/American_Music_Awards_of_2018',\n",
    "    'https://en.wikipedia.org/wiki/American_Music_Awards_of_2019',\n",
    "    'https://en.wikipedia.org/wiki/American_Music_Awards_of_2020',\n",
    "    'https://en.wikipedia.org/wiki/American_Music_Awards_of_2021',\n",
    "    'https://en.wikipedia.org/wiki/American_Music_Awards_of_2022',\n",
    "]\n",
    "\n",
    "all_dfs = []\n",
    "\n",
    "for url in urls:\n",
    "    year = url.split(\"_\")[-1]\n",
    "    df_results = scrape_second_table_2(url, year)\n",
    "    all_dfs.append(df_results)\n",
    "\n",
    "AmericanAwards = pd.concat(all_dfs, ignore_index=True)"
   ]
  },
  {
   "cell_type": "code",
   "execution_count": 4,
   "id": "f724c288",
   "metadata": {
    "scrolled": true
   },
   "outputs": [],
   "source": [
    "# Add the column 'Competition' that has the same value 'AmericanMusicAwards' to help the integration\n",
    "AmericanAwards['Competition'] = 'AmericanMusicAwards'"
   ]
  },
  {
   "cell_type": "code",
   "execution_count": 5,
   "id": "867f969d",
   "metadata": {},
   "outputs": [],
   "source": [
    "# Transform \"Year\" into a int variable\n",
    "AmericanAwards[\"Year\"]=pd.to_numeric(AmericanAwards[\"Year\"])"
   ]
  },
  {
   "cell_type": "markdown",
   "id": "3735807e",
   "metadata": {},
   "source": [
    "### Manual Changes"
   ]
  },
  {
   "cell_type": "code",
   "execution_count": 6,
   "id": "c0e33d37",
   "metadata": {},
   "outputs": [],
   "source": [
    "# To change the Category from \"Kohl's New Artist of the Year\" to \"New Artist of the Year\"\n",
    "AmericanAwards.at[1, \"Category\"] = \"New Artist of the Year\"\n",
    "\n",
    "#AmericanAwards[AmericanAwards[\"Category\"]==\"New Artist of the Year\"]"
   ]
  },
  {
   "cell_type": "code",
   "execution_count": 7,
   "id": "7c909ac0",
   "metadata": {},
   "outputs": [],
   "source": [
    "# To change the Category from \"Single of the Year\" to \"Song of the Year\"\n",
    "AmericanAwards.at[20, \"Category\"] = \"Song of the Year\"\n",
    "AmericanAwards.at[43, \"Category\"] = \"Song of the Year\"\n",
    "\n",
    "#AmericanAwards[AmericanAwards[\"Category\"]==\"Song of the Year\"]"
   ]
  },
  {
   "cell_type": "code",
   "execution_count": 8,
   "id": "6bcf83b6",
   "metadata": {},
   "outputs": [],
   "source": [
    "# To insert the Favorite Female Artist – Pop/Rock in 2019, bacuase it was null\n",
    "AmericanAwards.at[164, \"Winner\"] = \"Taylor Swift\""
   ]
  },
  {
   "cell_type": "code",
   "execution_count": 9,
   "id": "1ef03389",
   "metadata": {},
   "outputs": [],
   "source": [
    "# To change the Category from \"Kohl's New Artist of the Year\" to \"New Artist of the Year\"\n",
    "AmericanAwards.at[127, \"Category\"] = \"Artist of the Year\"\n",
    "\n",
    "#AmericanAwards[AmericanAwards[\"Category\"]==\"Artist of the Year\"]"
   ]
  },
  {
   "cell_type": "code",
   "execution_count": 10,
   "id": "7d3ab4fa",
   "metadata": {},
   "outputs": [],
   "source": [
    "# To change the Winner from \"Beyoncé\" to \"Beyoncé – Beyoncé\"; from \"1989\" to \"1989 – Taylor Swift\"; from \"Anything Goes\" to \"Anything Goes – Florida Georgia Line\"\n",
    "AmericanAwards.at[37, \"Winner\"] = \"Beyoncé – Beyoncé\"\n",
    "AmericanAwards.at[53, \"Winner\"] = \"1989 – Taylor Swift\"\n",
    "AmericanAwards.at[57, \"Winner\"] = \"Anything Goes – Florida Georgia Line\"\n",
    "AmericanAwards.at[155,\"Winner\"] = \"Marshmello\""
   ]
  },
  {
   "cell_type": "code",
   "execution_count": 11,
   "id": "21728c65",
   "metadata": {},
   "outputs": [],
   "source": [
    "# AmericanAwards['Category'].unique()"
   ]
  },
  {
   "cell_type": "code",
   "execution_count": 12,
   "id": "4769e26e",
   "metadata": {},
   "outputs": [],
   "source": [
    "#To change some Categories regarding Country\n",
    "AmericanAwards['Category'] = AmericanAwards['Category'].replace('Favorite Country Male Artist', 'Favorite Male Artist – Country')\n",
    "AmericanAwards['Category'] = AmericanAwards['Category'].replace('Favorite Male Country Artist', 'Favorite Male Artist – Country')\n",
    "AmericanAwards['Category'] = AmericanAwards['Category'].replace('Favorite Country Female Artist', 'Favorite Female Artist – Country')\n",
    "AmericanAwards['Category'] = AmericanAwards['Category'].replace('Favorite Female Country Artist', 'Favorite Female Artist – Country')\n",
    "AmericanAwards['Category'] = AmericanAwards['Category'].replace('Favorite Country Duo or Group', 'Favorite Band/Duo/Group – Country')\n",
    "AmericanAwards['Category'] = AmericanAwards['Category'].replace('Favorite Country Band/Duo/Group', 'Favorite Band/Duo/Group – Country')\n",
    "AmericanAwards['Category'] = AmericanAwards['Category'].replace('Favorite Duo or Group – Country', 'Favorite Band/Duo/Group – Country')\n",
    "AmericanAwards['Category'] = AmericanAwards['Category'].replace('Favorite Country Album', 'Favorite Album – Country')\n",
    "AmericanAwards['Category'] = AmericanAwards['Category'].replace('Favorite Country Song', 'Favorite Song – Country')\n",
    "\n",
    "# AmericanAwards[AmericanAwards[\"Category\"].str.contains(\"Country\")][\"Category\"].unique()"
   ]
  },
  {
   "cell_type": "code",
   "execution_count": 13,
   "id": "a7a3923f",
   "metadata": {},
   "outputs": [],
   "source": [
    "#To change some Categories regarding Soul/R&B\n",
    "AmericanAwards['Category'] = AmericanAwards['Category'].replace('Favorite Soul/R&B Male Artist', 'Favorite Male Artist – Soul/R&B')\n",
    "AmericanAwards['Category'] = AmericanAwards['Category'].replace('Favorite Soul/R&B Female Artist', 'Favorite Female Artist – Soul/R&B')\n",
    "AmericanAwards['Category'] = AmericanAwards['Category'].replace('Favorite Soul/R&B Album', 'Favorite Album – Soul/R&B')\n",
    "AmericanAwards['Category'] = AmericanAwards['Category'].replace('Favorite Soul/R&B Song', 'Favorite Song – Soul/R&B')\n",
    "\n",
    "# AmericanAwards[AmericanAwards[\"Category\"].str.contains(\"Soul/R&B\")][\"Category\"].unique()"
   ]
  },
  {
   "cell_type": "code",
   "execution_count": 14,
   "id": "45382a6d",
   "metadata": {},
   "outputs": [],
   "source": [
    "#To change some Categories regarding Rap/Hip-Hop\n",
    "AmericanAwards['Category'] = AmericanAwards['Category'].replace('Favorite Rap/Hip-Hop Artist', 'Favorite Artist – Rap/Hip-Hop')\n",
    "AmericanAwards['Category'] = AmericanAwards['Category'].replace('Favorite Rap/Hip-Hop Album', 'Favorite Album – Rap/Hip-Hop')\n",
    "AmericanAwards['Category'] = AmericanAwards['Category'].replace('Favorite Rap/Hip-Hop Song', 'Favorite Song – Rap/Hip-Hop')\n",
    "\n",
    "# AmericanAwards[AmericanAwards[\"Category\"].str.contains(\"Rap/Hip-Hop\")][\"Category\"].unique()"
   ]
  },
  {
   "cell_type": "code",
   "execution_count": 15,
   "id": "5ad46371",
   "metadata": {},
   "outputs": [],
   "source": [
    "#To change some Categories regarding Latin\n",
    "AmericanAwards['Category'] = AmericanAwards['Category'].replace('Favorite Latin Artist', 'Favorite Artist – Latin')\n",
    "AmericanAwards['Category'] = AmericanAwards['Category'].replace('Favorite Male Latin Artist', 'Favorite Male Artist – Latin')\n",
    "AmericanAwards['Category'] = AmericanAwards['Category'].replace('Favorite Female Latin Artist', 'Favorite Female Artist – Latin')\n",
    "AmericanAwards['Category'] = AmericanAwards['Category'].replace('Favorite Latin Song', 'Favorite Song – Latin')\n",
    "AmericanAwards['Category'] = AmericanAwards['Category'].replace('Favorite Latin Album', 'Favorite Album – Latin')\n",
    "AmericanAwards['Category'] = AmericanAwards['Category'].replace('Favorite Latin Duo or Group', 'Favorite Duo or Group – Latin')\n",
    "\n",
    "# AmericanAwards[AmericanAwards[\"Category\"].str.contains(\"Latin\")][\"Category\"].unique()"
   ]
  },
  {
   "cell_type": "code",
   "execution_count": 16,
   "id": "571694ce",
   "metadata": {},
   "outputs": [],
   "source": [
    "#To change some Categories regarding Electronic Dance Music\n",
    "AmericanAwards['Category'] = AmericanAwards['Category'].replace('Favorite Electronic Dance Music Artist', 'Favorite Artist – Electronic Dance Music')\n",
    "AmericanAwards['Category'] = AmericanAwards['Category'].replace('Favorite EDM Artist', 'Favorite Artist – Electronic Dance Music')\n",
    "AmericanAwards['Category'] = AmericanAwards['Category'].replace('Favorite Dance/Electronic Artist', 'Favorite Artist – Electronic Dance Music')\n",
    "\n",
    "# AmericanAwards[AmericanAwards[\"Category\"].str.contains(\"Electronic\")][\"Category\"].unique()"
   ]
  },
  {
   "cell_type": "code",
   "execution_count": 17,
   "id": "48c03e9b",
   "metadata": {},
   "outputs": [],
   "source": [
    "#To change some Categories regarding Pop/Rock\n",
    "AmericanAwards['Category'] = AmericanAwards['Category'].replace('Favorite Pop/Rock Artist', 'Favorite Artist – Pop/Rock')\n",
    "AmericanAwards['Category'] = AmericanAwards['Category'].replace('Favorite Male Pop/Rock Artist', 'Favorite Male Artist – Pop/Rock')\n",
    "AmericanAwards['Category'] = AmericanAwards['Category'].replace('Favorite Female Pop/Rock Artist', 'Favorite Female Artist – Pop/Rock')\n",
    "AmericanAwards['Category'] = AmericanAwards['Category'].replace('Favorite Pop/Rock Male Artist', 'Favorite Male Artist – Pop/Rock')\n",
    "AmericanAwards['Category'] = AmericanAwards['Category'].replace('Favorite Pop/Rock Female Artist', 'Favorite Female Artist – Pop/Rock')\n",
    "AmericanAwards['Category'] = AmericanAwards['Category'].replace('Favorite Pop/Rock Song', 'Favorite Song – Pop/Rock')\n",
    "AmericanAwards['Category'] = AmericanAwards['Category'].replace('Favorite Pop/Rock Album', 'Favorite Album – Pop/Rock')\n",
    "AmericanAwards['Category'] = AmericanAwards['Category'].replace('Favorite Pop/Rock Duo or Group', 'Favorite Duo or Group – Pop/Rock')\n",
    "AmericanAwards['Category'] = AmericanAwards['Category'].replace('Favorite Pop/Rock Band/Duo/Group', 'Favorite Duo or Group – Pop/Rock')\n",
    "\n",
    "# AmericanAwards[AmericanAwards[\"Category\"].str.contains(\"Pop/Rock\")][\"Category\"].unique()"
   ]
  },
  {
   "cell_type": "code",
   "execution_count": 18,
   "id": "221130c2",
   "metadata": {},
   "outputs": [],
   "source": [
    "#To change some Categories regarding Hip-Hop\n",
    "AmericanAwards['Category'] = AmericanAwards['Category'].replace('Favorite Hip-Hop Artist', 'Favorite Artist – Hip-Hop')\n",
    "AmericanAwards['Category'] = AmericanAwards['Category'].replace('Favorite Male Hip-Hop Artist', 'Favorite Male Artist – Hip-Hop')\n",
    "AmericanAwards['Category'] = AmericanAwards['Category'].replace('Favorite Female Hip-Hop Artist', 'Favorite Female Artist – Hip-Hop')\n",
    "AmericanAwards['Category'] = AmericanAwards['Category'].replace('Favorite Hip-Hop Song', 'Favorite Song – Hip-Hop')\n",
    "AmericanAwards['Category'] = AmericanAwards['Category'].replace('Favorite Hip-Hop Album', 'Favorite Album – Hip-Hop')\n",
    "\n",
    "# AmericanAwards[AmericanAwards[\"Category\"].str.contains(\" Hip-Hop\")][\"Category\"].unique()"
   ]
  },
  {
   "cell_type": "code",
   "execution_count": 19,
   "id": "baecb9b3",
   "metadata": {},
   "outputs": [],
   "source": [
    "#To change some Categories regarding Rock\n",
    "AmericanAwards['Category'] = AmericanAwards['Category'].replace('Favorite Rock Artist', 'Favorite Artist – Rock')\n",
    "AmericanAwards['Category'] = AmericanAwards['Category'].replace('Favorite Rock Song', 'Favorite Song – Rock')\n",
    "AmericanAwards['Category'] = AmericanAwards['Category'].replace('Favorite Rock Album', 'Favorite Album – Rock')\n",
    "\n",
    "# AmericanAwards[AmericanAwards[\"Category\"].str.contains(\" Rock\")][\"Category\"].unique()"
   ]
  },
  {
   "cell_type": "code",
   "execution_count": 20,
   "id": "00c77c54",
   "metadata": {},
   "outputs": [],
   "source": [
    "#To change some Categories regarding R&B\n",
    "AmericanAwards['Category'] = AmericanAwards['Category'].replace('Favorite Male R&B Artist', 'Favorite Male Artist – R&B')\n",
    "AmericanAwards['Category'] = AmericanAwards['Category'].replace('Favorite Female R&B Artist', 'Favorite Female Artist – R&B')\n",
    "AmericanAwards['Category'] = AmericanAwards['Category'].replace('Favorite R&B Song', 'Favorite Song – R&B')\n",
    "AmericanAwards['Category'] = AmericanAwards['Category'].replace('Favorite R&B Album', 'Favorite Album – R&B')\n",
    "\n",
    "# AmericanAwards[AmericanAwards[\"Category\"].str.contains(\" R&B\")][\"Category\"].unique()"
   ]
  },
  {
   "cell_type": "code",
   "execution_count": 21,
   "id": "0b3113d3",
   "metadata": {},
   "outputs": [],
   "source": [
    "#To change some Categories regarding Pop\n",
    "AmericanAwards['Category'] = AmericanAwards['Category'].replace('Favorite Male Pop Artist', 'Favorite Male Artist – Pop')\n",
    "AmericanAwards['Category'] = AmericanAwards['Category'].replace('Favorite Female Pop Artist', 'Favorite Female Artist – Pop')\n",
    "AmericanAwards['Category'] = AmericanAwards['Category'].replace('Favorite Pop Song', 'Favorite Song – Pop')\n",
    "AmericanAwards['Category'] = AmericanAwards['Category'].replace('Favorite Pop Album', 'Favorite Album – Pop')\n",
    "AmericanAwards['Category'] = AmericanAwards['Category'].replace('Favorite Pop Duo or Group', 'Favorite Duo or Group – Pop')\n",
    "AmericanAwards['Category'] = AmericanAwards['Category'].replace('Favorite Pop Album', 'Favorite Album – Pop')\n",
    "\n",
    "# AmericanAwards[AmericanAwards[\"Category\"].str.contains(\"Pop\")][\"Category\"].unique()"
   ]
  },
  {
   "cell_type": "code",
   "execution_count": 22,
   "id": "406117ab",
   "metadata": {},
   "outputs": [],
   "source": [
    "#To change other categories\n",
    "AmericanAwards['Category'] = AmericanAwards['Category'].replace('Favorite Gospel Artist', 'Favorite Artist – Gospel')\n",
    "AmericanAwards['Category'] = AmericanAwards['Category'].replace('Favorite Afrobeats Artist', 'Favorite Artist – Afrobeats')\n",
    "AmericanAwards['Category'] = AmericanAwards['Category'].replace('Favorite K-pop Artist', 'Favorite Artist – Kpop')\n",
    "AmericanAwards.loc[246, 'Winner'] = 'Silk Sonic-\"Leave the Door Open\"'"
   ]
  },
  {
   "cell_type": "code",
   "execution_count": 23,
   "id": "affd6a01",
   "metadata": {},
   "outputs": [],
   "source": [
    "#To change the position of some values\n",
    "AmericanAwards.at[43, \"Category\"] = \"Song of the Year\"\n",
    "\n",
    "AmericanAwards.loc[AmericanAwards['Winner'] == 'Cardi B featuring Megan Thee Stallion – \"WAP\"', 'Winner'] = '\"WAP\" – Cardi B featuring Megan Thee Stallion'\n",
    "AmericanAwards.loc[AmericanAwards['Winner'] == 'Doja Cat featuring SZA – \"Kiss Me More\"', 'Winner'] ='\"Kiss Me More\" – Doja Cat featuring SZA'\n",
    "AmericanAwards.loc[AmericanAwards['Winner'] == 'Future featuring Drake and Tems – \"Wait For U\"', 'Winner'] ='\"Wait For U\" – Future featuring Drake and Tems'\n",
    "AmericanAwards.loc[AmericanAwards['Winner'] == 'Wizkid featuring Tems – \"Essence\"', 'Winner'] ='\"Essence\" – Wizkid featuring Tems'"
   ]
  },
  {
   "cell_type": "code",
   "execution_count": 24,
   "id": "f1140618",
   "metadata": {},
   "outputs": [],
   "source": [
    "AmericanAwards = AmericanAwards.replace('–', '-', regex=True)"
   ]
  },
  {
   "cell_type": "markdown",
   "id": "da33ec72",
   "metadata": {},
   "source": [
    "### Creation of the final dataframe "
   ]
  },
  {
   "cell_type": "code",
   "execution_count": 25,
   "id": "a47a648e",
   "metadata": {},
   "outputs": [
    {
     "data": {
      "text/html": [
       "<div>\n",
       "<style scoped>\n",
       "    .dataframe tbody tr th:only-of-type {\n",
       "        vertical-align: middle;\n",
       "    }\n",
       "\n",
       "    .dataframe tbody tr th {\n",
       "        vertical-align: top;\n",
       "    }\n",
       "\n",
       "    .dataframe thead th {\n",
       "        text-align: right;\n",
       "    }\n",
       "</style>\n",
       "<table border=\"1\" class=\"dataframe\">\n",
       "  <thead>\n",
       "    <tr style=\"text-align: right;\">\n",
       "      <th></th>\n",
       "      <th>Category</th>\n",
       "      <th>Winner</th>\n",
       "      <th>Year</th>\n",
       "      <th>Competition</th>\n",
       "      <th>Song</th>\n",
       "      <th>Album</th>\n",
       "      <th>Artist 1</th>\n",
       "      <th>Artist 2</th>\n",
       "      <th>Featuring</th>\n",
       "    </tr>\n",
       "  </thead>\n",
       "  <tbody>\n",
       "    <tr>\n",
       "      <th>0</th>\n",
       "      <td>Artist of the Year</td>\n",
       "      <td>Taylor Swift</td>\n",
       "      <td>2013</td>\n",
       "      <td>AmericanMusicAwards</td>\n",
       "      <td>None</td>\n",
       "      <td>None</td>\n",
       "      <td>Taylor Swift</td>\n",
       "      <td>None</td>\n",
       "      <td>None</td>\n",
       "    </tr>\n",
       "    <tr>\n",
       "      <th>1</th>\n",
       "      <td>New Artist of the Year</td>\n",
       "      <td>Ariana Grande</td>\n",
       "      <td>2013</td>\n",
       "      <td>AmericanMusicAwards</td>\n",
       "      <td>None</td>\n",
       "      <td>None</td>\n",
       "      <td>Ariana Grande</td>\n",
       "      <td>None</td>\n",
       "      <td>None</td>\n",
       "    </tr>\n",
       "    <tr>\n",
       "      <th>2</th>\n",
       "      <td>Favorite Male Artist - Pop/Rock</td>\n",
       "      <td>Justin Timberlake</td>\n",
       "      <td>2013</td>\n",
       "      <td>AmericanMusicAwards</td>\n",
       "      <td>None</td>\n",
       "      <td>None</td>\n",
       "      <td>Justin Timberlake</td>\n",
       "      <td>None</td>\n",
       "      <td>None</td>\n",
       "    </tr>\n",
       "    <tr>\n",
       "      <th>3</th>\n",
       "      <td>Favorite Female Artist - Pop/Rock</td>\n",
       "      <td>Taylor Swift</td>\n",
       "      <td>2013</td>\n",
       "      <td>AmericanMusicAwards</td>\n",
       "      <td>None</td>\n",
       "      <td>None</td>\n",
       "      <td>Taylor Swift</td>\n",
       "      <td>None</td>\n",
       "      <td>None</td>\n",
       "    </tr>\n",
       "    <tr>\n",
       "      <th>4</th>\n",
       "      <td>Favorite Duo or Group - Pop/Rock</td>\n",
       "      <td>One Direction</td>\n",
       "      <td>2013</td>\n",
       "      <td>AmericanMusicAwards</td>\n",
       "      <td>None</td>\n",
       "      <td>None</td>\n",
       "      <td>One Direction</td>\n",
       "      <td>None</td>\n",
       "      <td>None</td>\n",
       "    </tr>\n",
       "    <tr>\n",
       "      <th>5</th>\n",
       "      <td>Favorite Album - Pop/Rock</td>\n",
       "      <td>Take Me Home - One Direction</td>\n",
       "      <td>2013</td>\n",
       "      <td>AmericanMusicAwards</td>\n",
       "      <td>None</td>\n",
       "      <td>Take Me Home</td>\n",
       "      <td>One Direction</td>\n",
       "      <td>None</td>\n",
       "      <td>None</td>\n",
       "    </tr>\n",
       "    <tr>\n",
       "      <th>6</th>\n",
       "      <td>Favorite Male Artist - Country</td>\n",
       "      <td>Luke Bryan</td>\n",
       "      <td>2013</td>\n",
       "      <td>AmericanMusicAwards</td>\n",
       "      <td>None</td>\n",
       "      <td>None</td>\n",
       "      <td>Luke Bryan</td>\n",
       "      <td>None</td>\n",
       "      <td>None</td>\n",
       "    </tr>\n",
       "    <tr>\n",
       "      <th>7</th>\n",
       "      <td>Favorite Female Artist - Country</td>\n",
       "      <td>Taylor Swift</td>\n",
       "      <td>2013</td>\n",
       "      <td>AmericanMusicAwards</td>\n",
       "      <td>None</td>\n",
       "      <td>None</td>\n",
       "      <td>Taylor Swift</td>\n",
       "      <td>None</td>\n",
       "      <td>None</td>\n",
       "    </tr>\n",
       "    <tr>\n",
       "      <th>8</th>\n",
       "      <td>Favorite Band/Duo/Group - Country</td>\n",
       "      <td>Lady Antebellum</td>\n",
       "      <td>2013</td>\n",
       "      <td>AmericanMusicAwards</td>\n",
       "      <td>None</td>\n",
       "      <td>None</td>\n",
       "      <td>Lady Antebellum</td>\n",
       "      <td>None</td>\n",
       "      <td>None</td>\n",
       "    </tr>\n",
       "    <tr>\n",
       "      <th>9</th>\n",
       "      <td>Favorite Album - Country</td>\n",
       "      <td>Red - Taylor Swift</td>\n",
       "      <td>2013</td>\n",
       "      <td>AmericanMusicAwards</td>\n",
       "      <td>None</td>\n",
       "      <td>Red</td>\n",
       "      <td>Taylor Swift</td>\n",
       "      <td>None</td>\n",
       "      <td>None</td>\n",
       "    </tr>\n",
       "  </tbody>\n",
       "</table>\n",
       "</div>"
      ],
      "text/plain": [
       "                            Category                        Winner  Year  \\\n",
       "0                 Artist of the Year                  Taylor Swift  2013   \n",
       "1             New Artist of the Year                 Ariana Grande  2013   \n",
       "2    Favorite Male Artist - Pop/Rock             Justin Timberlake  2013   \n",
       "3  Favorite Female Artist - Pop/Rock                  Taylor Swift  2013   \n",
       "4   Favorite Duo or Group - Pop/Rock                 One Direction  2013   \n",
       "5          Favorite Album - Pop/Rock  Take Me Home - One Direction  2013   \n",
       "6     Favorite Male Artist - Country                    Luke Bryan  2013   \n",
       "7   Favorite Female Artist - Country                  Taylor Swift  2013   \n",
       "8  Favorite Band/Duo/Group - Country               Lady Antebellum  2013   \n",
       "9           Favorite Album - Country            Red - Taylor Swift  2013   \n",
       "\n",
       "           Competition  Song         Album           Artist 1 Artist 2  \\\n",
       "0  AmericanMusicAwards  None          None       Taylor Swift     None   \n",
       "1  AmericanMusicAwards  None          None      Ariana Grande     None   \n",
       "2  AmericanMusicAwards  None          None  Justin Timberlake     None   \n",
       "3  AmericanMusicAwards  None          None       Taylor Swift     None   \n",
       "4  AmericanMusicAwards  None          None      One Direction     None   \n",
       "5  AmericanMusicAwards  None  Take Me Home      One Direction     None   \n",
       "6  AmericanMusicAwards  None          None         Luke Bryan     None   \n",
       "7  AmericanMusicAwards  None          None       Taylor Swift     None   \n",
       "8  AmericanMusicAwards  None          None    Lady Antebellum     None   \n",
       "9  AmericanMusicAwards  None           Red       Taylor Swift     None   \n",
       "\n",
       "  Featuring  \n",
       "0      None  \n",
       "1      None  \n",
       "2      None  \n",
       "3      None  \n",
       "4      None  \n",
       "5      None  \n",
       "6      None  \n",
       "7      None  \n",
       "8      None  \n",
       "9      None  "
      ]
     },
     "execution_count": 25,
     "metadata": {},
     "output_type": "execute_result"
    }
   ],
   "source": [
    "AmericanAwards[\"Song\"]=None\n",
    "AmericanAwards[\"Album\"]=None\n",
    "AmericanAwards[\"Artist 1\"]=None\n",
    "AmericanAwards[\"Artist 2\"]=None\n",
    "AmericanAwards[\"Featuring\"]=None\n",
    "\n",
    "\n",
    "# Definition of the functions\n",
    "import re\n",
    "\n",
    "def extract_album_first(row):\n",
    "    if not re.search(\"-\", str(row)):\n",
    "         return row\n",
    "    else:\n",
    "        parts=row.split(\"-\")\n",
    "        return parts[0].strip()\n",
    "    \n",
    "      \n",
    "def extract_album_second(row):\n",
    "    if not re.search(\"-\", str(row)):\n",
    "         return row\n",
    "    else:\n",
    "        parts=row.split(\"-\")\n",
    "        return parts[1].strip()\n",
    "\n",
    "\n",
    "def extract_song(row):\n",
    "    if not re.search('-', str(row)):\n",
    "         return row\n",
    "    else:\n",
    "        match=re.search(r'\"([^\"]*)\"', str(row))\n",
    "        if match:\n",
    "            return match.group(1)\n",
    "        \n",
    "             \n",
    "def extract_artist(row):\n",
    "    if str(row).startswith('\"'):\n",
    "        match=re.search('-\\s*(.*)', str(row))\n",
    "        if match:\n",
    "            return match.group(1)\n",
    "    else:\n",
    "        match=re.search(r'^([^-]+)', str(row))\n",
    "        if match:\n",
    "            return match.group(1)\n",
    "\n",
    "\n",
    "def extract_feat(row):\n",
    "    split_string = str(row).split(\"featuring\")\n",
    "    return split_string[1].strip()\n",
    "\n",
    "\n",
    "def extract_artist2(row):\n",
    "    match=re.search(r'-\\s*(.*?)\\s*featuring', row)\n",
    "\n",
    "    if match:\n",
    "        return match.group(1).strip()\n",
    "\n",
    "     \n",
    "def extract_artist3(row):\n",
    "    split_string = str(row).split(\"and\")\n",
    "    return split_string[0].strip()\n",
    "\n",
    "\n",
    "def extract_artist4(row):\n",
    "    split_string = str(row).split(\"and\")\n",
    "    return split_string[1].strip()\n",
    "      \n",
    "    \n",
    "    \n",
    "for i in range(0,len(AmericanAwards)-1):\n",
    "    category=AmericanAwards[\"Category\"].iloc[i]\n",
    "    \n",
    "    if \"Artist\" in category or \"Group\" in category or \"Icon\" in category or \"Dick Clark\" in category:\n",
    "        AmericanAwards.at[i, \"Artist 1\"]=AmericanAwards[\"Winner\"].iloc[i]\n",
    "        \n",
    "    elif \"Album\" in category:\n",
    "        if AmericanAwards[\"Year\"].iloc[i]<2020:\n",
    "            AmericanAwards.at[i, \"Album\"]=extract_album_first(AmericanAwards[\"Winner\"].iloc[i])\n",
    "            AmericanAwards.at[i, \"Artist 1\"]=extract_album_second(AmericanAwards[\"Winner\"].iloc[i])\n",
    "        else:\n",
    "            AmericanAwards.at[i, \"Album\"]=extract_album_second(AmericanAwards[\"Winner\"].iloc[i])\n",
    "            AmericanAwards.at[i, \"Artist 1\"]=extract_album_first(AmericanAwards[\"Winner\"].iloc[i])\n",
    "  \n",
    "    elif \"Song\" in category or \"Collaboration\" in category or \"Video\" in category:\n",
    "        AmericanAwards.at[i, \"Song\"]=extract_song(AmericanAwards[\"Winner\"].iloc[i])\n",
    "        AmericanAwards.at[i, \"Artist 1\"]=extract_artist(AmericanAwards[\"Winner\"].iloc[i])\n",
    "\n",
    "\n",
    "     \n",
    "\n",
    "\n",
    "# Featuring\n",
    "for i in range(0,len(AmericanAwards)-1):\n",
    "    artist=AmericanAwards[\"Winner\"].iloc[i]\n",
    "    \n",
    "    if \"featuring\" in artist:\n",
    "        AmericanAwards.at[i, \"Featuring\"]=extract_feat(AmericanAwards[\"Artist 1\"].iloc[i])\n",
    "        AmericanAwards.at[i, \"Artist 1\"]=extract_artist2(AmericanAwards[\"Winner\"].iloc[i])\n",
    "        # print(artist,\"\\n\", AmericanAwards.at[i, \"Artist 2\"] )\n",
    "\n",
    "\n",
    "\n",
    "# Artist 1 and Artist 2\n",
    "for i in range(0, len(AmericanAwards)-1):\n",
    "    artist=AmericanAwards[\"Artist 1\"].iloc[i]\n",
    "    \n",
    "    if artist is not None:    \n",
    "        if artist.find(\" and \")!= -1:\n",
    "            AmericanAwards.at[i, \"Artist 2\"]=extract_artist4(AmericanAwards[\"Artist 1\"].iloc[i])\n",
    "            AmericanAwards.at[i, \"Artist 1\"]=extract_artist3(AmericanAwards[\"Artist 1\"].iloc[i])\n",
    "            \n",
    "        \n",
    "    \n",
    "AmericanAwards.head(10)   "
   ]
  },
  {
   "cell_type": "markdown",
   "id": "4456ccbe",
   "metadata": {},
   "source": [
    "### Save as csv file"
   ]
  },
  {
   "cell_type": "code",
   "execution_count": 26,
   "id": "bab01477",
   "metadata": {},
   "outputs": [],
   "source": [
    "AmericanAwards.to_csv(\"AMA_final.csv\", encoding='utf-8')"
   ]
  },
  {
   "cell_type": "markdown",
   "id": "ba614518",
   "metadata": {},
   "source": [
    "# Analysis"
   ]
  },
  {
   "cell_type": "markdown",
   "id": "f35a0121",
   "metadata": {},
   "source": [
    "### Who is the most successful Artist?"
   ]
  },
  {
   "cell_type": "code",
   "execution_count": 27,
   "id": "f4c7a14b",
   "metadata": {},
   "outputs": [
    {
     "name": "stdout",
     "output_type": "stream",
     "text": [
      "The most successful Artist is: Taylor Swift\n",
      "Number of Awards: 25\n"
     ]
    }
   ],
   "source": [
    "from collections import Counter\n",
    "\n",
    "artists_list = [artist for artist in AmericanAwards[['Artist 1', 'Artist 2']].values.ravel() if pd.notnull(artist)]\n",
    "artist_counter = Counter(artists_list)\n",
    "\n",
    "most_successful_artist, most_successful_artist_count = artist_counter.most_common(1)[0]\n",
    "\n",
    "print(\"The most successful Artist is:\", most_successful_artist)\n",
    "print(\"Number of Awards:\", most_successful_artist_count)"
   ]
  },
  {
   "cell_type": "markdown",
   "id": "cbdce58b",
   "metadata": {},
   "source": [
    "### Which are the most awarded Album?"
   ]
  },
  {
   "cell_type": "code",
   "execution_count": 28,
   "id": "b8bc88a7",
   "metadata": {},
   "outputs": [
    {
     "name": "stdout",
     "output_type": "stream",
     "text": [
      "The most awarded Albums are: [\"Red (Taylor's Version)\", '24K Magic']\n",
      "Number of Awards: 2\n"
     ]
    }
   ],
   "source": [
    "album_counts = AmericanAwards['Album'].value_counts()\n",
    "max_occurrences = album_counts.max()\n",
    "most_awarded_albums = album_counts[album_counts == max_occurrences].index.tolist()\n",
    "\n",
    "print(\"The most awarded Albums are:\", most_awarded_albums)\n",
    "print(\"Number of Awards:\", max_occurrences)"
   ]
  },
  {
   "cell_type": "markdown",
   "id": "ae9b719b",
   "metadata": {},
   "source": [
    "### Which is the most awarded Song?"
   ]
  },
  {
   "cell_type": "code",
   "execution_count": 29,
   "id": "5ab88c84",
   "metadata": {},
   "outputs": [
    {
     "name": "stdout",
     "output_type": "stream",
     "text": [
      "The most awarded Song is: ['Havana']\n",
      "Number of Awards: 3\n"
     ]
    }
   ],
   "source": [
    "song_counts = AmericanAwards['Song'].value_counts()\n",
    "max_occurrences = song_counts.max()\n",
    "most_awarded_songs = song_counts[song_counts == max_occurrences].index.tolist()\n",
    "\n",
    "print(\"The most awarded Song is:\", most_awarded_songs)\n",
    "print(\"Number of Awards:\", max_occurrences)"
   ]
  },
  {
   "cell_type": "markdown",
   "id": "41a38802",
   "metadata": {},
   "source": [
    "### Which artists has made the greatest contribution to the victory?"
   ]
  },
  {
   "cell_type": "code",
   "execution_count": 30,
   "id": "631d1eea",
   "metadata": {},
   "outputs": [
    {
     "name": "stdout",
     "output_type": "stream",
     "text": [
      "The Artists who did the highest number of Featuring collaborations are: ['Justin Bieber', 'Young Thug']\n",
      "Number of Awards: 3\n"
     ]
    }
   ],
   "source": [
    "featuring_counts = AmericanAwards['Featuring'].value_counts()\n",
    "max_occurrences = featuring_counts.max()\n",
    "most_frequent_featurings = featuring_counts[featuring_counts == max_occurrences].index.tolist()\n",
    "\n",
    "print(\"The Artists who did the highest number of Featuring collaborations are:\", most_frequent_featurings)\n",
    "print(\"Number of Awards:\", max_occurrences)"
   ]
  },
  {
   "cell_type": "markdown",
   "id": "d68ef3bb",
   "metadata": {},
   "source": [
    "### In what year were the categories most inclusive?"
   ]
  },
  {
   "cell_type": "code",
   "execution_count": 31,
   "id": "c20dd878",
   "metadata": {},
   "outputs": [
    {
     "name": "stdout",
     "output_type": "stream",
     "text": [
      "The most inclusive Year is: [2022]\n",
      "Number of Categories: 39\n"
     ]
    }
   ],
   "source": [
    "year_counts = AmericanAwards['Year'].value_counts()\n",
    "max_occurrences = year_counts.max()\n",
    "most_inclusive_years = year_counts[year_counts == max_occurrences].index.tolist()\n",
    "\n",
    "print(\"The most inclusive Year is:\", most_inclusive_years)\n",
    "print(\"Number of Categories:\", max_occurrences)"
   ]
  }
 ],
 "metadata": {
  "kernelspec": {
   "display_name": "Python 3 (ipykernel)",
   "language": "python",
   "name": "python3"
  },
  "language_info": {
   "codemirror_mode": {
    "name": "ipython",
    "version": 3
   },
   "file_extension": ".py",
   "mimetype": "text/x-python",
   "name": "python",
   "nbconvert_exporter": "python",
   "pygments_lexer": "ipython3",
   "version": "3.11.4"
  }
 },
 "nbformat": 4,
 "nbformat_minor": 5
}
