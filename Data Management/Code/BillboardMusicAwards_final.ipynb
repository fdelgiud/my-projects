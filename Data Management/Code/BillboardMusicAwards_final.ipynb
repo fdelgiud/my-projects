{
 "cells": [
  {
   "cell_type": "markdown",
   "id": "d68ad797",
   "metadata": {},
   "source": [
    "# Billboard Music Awards"
   ]
  },
  {
   "cell_type": "code",
   "execution_count": 1,
   "id": "96457c54",
   "metadata": {},
   "outputs": [],
   "source": [
    "import requests\n",
    "from bs4 import BeautifulSoup\n",
    "import pandas as pd\n",
    "import re"
   ]
  },
  {
   "cell_type": "code",
   "execution_count": 2,
   "id": "14c4abbc",
   "metadata": {},
   "outputs": [],
   "source": [
    "#2014\n",
    "\n",
    "def extract_year_from_url(url):\n",
    "    match = re.search(r'(\\d{4})_', url)\n",
    "    if match:\n",
    "        year = match.group(1)\n",
    "        return year\n",
    "    else:\n",
    "        return None\n",
    "\n",
    "def scrape_table_1(url):\n",
    "    response = requests.get(url)\n",
    "    if response.status_code == 200:\n",
    "        soup = BeautifulSoup(response.content, 'html.parser')\n",
    "        tables = soup.find_all('table')\n",
    "        if len(tables) >= 4:\n",
    "            second_table = tables[4]\n",
    "            data = []\n",
    "            rows = second_table.find_all('tr')\n",
    "            for i in range(len(rows)):\n",
    "                row_text = rows[i].get_text().strip().split('\\n')\n",
    "                if i % 2 == 0:\n",
    "                    categories = [category.strip() for category in row_text if category.strip()]\n",
    "                else:\n",
    "                    cells = rows[i].find_all(['td', 'th'])\n",
    "                    winners = []\n",
    "                    for cell in cells:\n",
    "                        winner_list = cell.find_all('ul')\n",
    "                        if winner_list:\n",
    "                            winner_name = winner_list[0].find('li').get_text().strip().split('\\n')[0]\n",
    "                            winners.append(winner_name)\n",
    "                        else:\n",
    "                            winners.append(cell.get_text().strip())  \n",
    "                    for idx, category in enumerate(categories):\n",
    "                        if idx < len(winners):\n",
    "                            winner = winners[idx]\n",
    "                        else:\n",
    "                            winner = ''\n",
    "                        data.append({'Category': category, 'Winner': winner})\n",
    "            df = pd.DataFrame(data)\n",
    "            return df\n",
    "        else:\n",
    "            print('Non è stata trovata una quarta tabella sulla pagina.')\n",
    "            return None\n",
    "    else:\n",
    "        print('Errore nella richiesta HTTP:', response.status_code)\n",
    "        return None\n",
    "\n",
    "url = \"https://en.wikipedia.org/wiki/2014_Billboard_Music_Awards\"\n",
    "\n",
    "result_1 = scrape_table_1(url)\n",
    "result_1['Year']=extract_year_from_url(url)"
   ]
  },
  {
   "cell_type": "code",
   "execution_count": 3,
   "id": "dd5a11ac",
   "metadata": {},
   "outputs": [],
   "source": [
    "#2013-2015-2016-2017-2018-2019-2020-2021-2022-2023"
   ]
  },
  {
   "cell_type": "code",
   "execution_count": 4,
   "id": "1bffd5a2",
   "metadata": {},
   "outputs": [],
   "source": [
    "import requests\n",
    "from bs4 import BeautifulSoup\n",
    "import pandas as pd\n",
    "import re\n",
    "\n",
    "def extract_year_from_url(url):\n",
    "    match = re.search(r'(\\d{4})_', url)\n",
    "    if match:\n",
    "        year = match.group(1)\n",
    "        return year\n",
    "    else:\n",
    "        return None\n",
    "\n",
    "def scrape_table_2(url):\n",
    "    response = requests.get(url)\n",
    "    if response.status_code == 200:\n",
    "        soup = BeautifulSoup(response.content, 'html.parser')\n",
    "        tables = soup.find_all('table')\n",
    "        if len(tables) >= 4:\n",
    "            second_table = tables[3]\n",
    "            data = []\n",
    "            rows = second_table.find_all('tr')\n",
    "            for i in range(len(rows)):\n",
    "                row_text = rows[i].get_text().strip().split('\\n')\n",
    "                if i % 2 == 0:\n",
    "                    categories = [category.strip() for category in row_text if category.strip()]\n",
    "                else:\n",
    "                    cells = rows[i].find_all(['td', 'th'])\n",
    "                    winners = []\n",
    "                    for cell in cells:\n",
    "                        winner_list = cell.find_all('ul')\n",
    "                        if winner_list:\n",
    "                            winner_name = winner_list[0].find('li').get_text().strip().split('\\n')[0]\n",
    "                            winners.append(winner_name)\n",
    "                        else:\n",
    "                            winners.append(cell.get_text().strip())  \n",
    "                    for idx, category in enumerate(categories):\n",
    "                        if idx < len(winners):\n",
    "                            winner = winners[idx]\n",
    "                        else:\n",
    "                            winner = ''\n",
    "                        data.append({'Category': category, 'Winner': winner})\n",
    "            df = pd.DataFrame(data)\n",
    "            return df\n",
    "        else:\n",
    "            print('Non è stata trovata una quarta tabella sulla pagina.')\n",
    "            return None\n",
    "    else:\n",
    "        print('Errore nella richiesta HTTP:', response.status_code)\n",
    "        return None\n",
    "\n",
    "\n",
    "urls = [\n",
    "    'https://en.wikipedia.org/wiki/2013_Billboard_Music_Awards',\n",
    "    'https://en.wikipedia.org/wiki/2015_Billboard_Music_Awards',\n",
    "    'https://en.wikipedia.org/wiki/2016_Billboard_Music_Awards',\n",
    "    'https://en.wikipedia.org/wiki/2017_Billboard_Music_Awards', \n",
    "    'https://en.wikipedia.org/wiki/2018_Billboard_Music_Awards',\n",
    "    'https://en.wikipedia.org/wiki/2019_Billboard_Music_Awards',\n",
    "    'https://en.wikipedia.org/wiki/2020_Billboard_Music_Awards',\n",
    "    'https://en.wikipedia.org/wiki/2021_Billboard_Music_Awards',\n",
    "    'https://en.wikipedia.org/wiki/2022_Billboard_Music_Awards',\n",
    "    'https://en.wikipedia.org/wiki/2023_Billboard_Music_Awards',  \n",
    "]\n",
    "\n",
    "all_dfs = []\n",
    "\n",
    "for url in urls:\n",
    "    year = extract_year_from_url(url)\n",
    "    df_results = scrape_table_2(url)\n",
    "    if df_results is not None:\n",
    "        df_results['Year'] = year\n",
    "        all_dfs.append(df_results)\n",
    "\n",
    "result_2 = pd.concat(all_dfs, ignore_index=True)"
   ]
  },
  {
   "cell_type": "code",
   "execution_count": 5,
   "id": "8479536a",
   "metadata": {},
   "outputs": [],
   "source": [
    "BillboardMusicAwards = pd.concat([result_1,result_2])"
   ]
  },
  {
   "cell_type": "code",
   "execution_count": 6,
   "id": "5df026ae",
   "metadata": {},
   "outputs": [],
   "source": [
    "BillboardMusicAwards['Competition'] = 'BillboardMusicAwards'"
   ]
  },
  {
   "cell_type": "markdown",
   "id": "d1a365a4",
   "metadata": {},
   "source": [
    "Select the song"
   ]
  },
  {
   "cell_type": "code",
   "execution_count": 7,
   "id": "d73a698d",
   "metadata": {},
   "outputs": [],
   "source": [
    "import re\n",
    "\n",
    "def extract_text_in_quotes(text):\n",
    "    match = re.search(r'\"([^\"]*)\"', text)\n",
    "    if match:\n",
    "        return match.group(1)\n",
    "    else:\n",
    "        return None\n",
    "\n",
    "BillboardMusicAwards['Song'] = BillboardMusicAwards['Winner'].apply(extract_text_in_quotes)"
   ]
  },
  {
   "cell_type": "markdown",
   "id": "8342b70c",
   "metadata": {},
   "source": [
    "Select the album"
   ]
  },
  {
   "cell_type": "code",
   "execution_count": 8,
   "id": "2d25016a",
   "metadata": {},
   "outputs": [],
   "source": [
    "# dal 2013 al 2019 l'album è prima del –"
   ]
  },
  {
   "cell_type": "code",
   "execution_count": 9,
   "id": "f64f0834",
   "metadata": {},
   "outputs": [],
   "source": [
    "def extract_album_1(text):\n",
    "    match = re.search(r'(?<!\")[^\"–]+(?!\\s*\")\\s*–', text)\n",
    "    if match:\n",
    "        return match.group(0).strip()[:-1]  \n",
    "    else:\n",
    "        return None"
   ]
  },
  {
   "cell_type": "code",
   "execution_count": 10,
   "id": "f58acedb",
   "metadata": {},
   "outputs": [],
   "source": [
    "# dal 2019 al 2023 l'album è dopo il –"
   ]
  },
  {
   "cell_type": "code",
   "execution_count": 11,
   "id": "5cb615ba",
   "metadata": {},
   "outputs": [],
   "source": [
    "def extract_album_2(text):\n",
    "    match = re.search(r'–\\s*([^\"–]+|$)', text)\n",
    "    if match:\n",
    "        album = match.group(1).strip()\n",
    "        if album.startswith('\"') and album.endswith('\"') or not album:\n",
    "            return None\n",
    "        else:\n",
    "            return album\n",
    "    else:\n",
    "        return None"
   ]
  },
  {
   "cell_type": "code",
   "execution_count": 12,
   "id": "56c72c18",
   "metadata": {},
   "outputs": [],
   "source": [
    "BillboardMusicAwards['Year'] = pd.to_numeric(BillboardMusicAwards['Year'], errors='coerce') #convert in int"
   ]
  },
  {
   "cell_type": "code",
   "execution_count": 13,
   "id": "8c4a3e8b",
   "metadata": {},
   "outputs": [],
   "source": [
    "BillboardMusicAwards.loc[(BillboardMusicAwards['Year'] >= 2020) & (BillboardMusicAwards['Year'] <= 2023), 'Album'] = BillboardMusicAwards.loc[(BillboardMusicAwards['Year'] >= 2020) & (BillboardMusicAwards['Year'] <= 2023), 'Winner'].apply(extract_album_2)\n",
    "BillboardMusicAwards.loc[(BillboardMusicAwards['Year'] >= 2013) & (BillboardMusicAwards['Year'] <= 2019), 'Album'] = BillboardMusicAwards.loc[(BillboardMusicAwards['Year'] >= 2013) & (BillboardMusicAwards['Year'] <= 2019), 'Winner'].apply(extract_album_1)"
   ]
  },
  {
   "cell_type": "markdown",
   "id": "05901544",
   "metadata": {},
   "source": [
    "Select artist"
   ]
  },
  {
   "cell_type": "code",
   "execution_count": 14,
   "id": "d2c14b8c",
   "metadata": {},
   "outputs": [],
   "source": [
    "def extract_remaining_text_1(text):\n",
    "    if '\"' in text and ('-' in text or '–' in text):\n",
    "        match = re.search(r'\"([^\"]+)\"\\s*[-–]\\s*([^–]+)', text)\n",
    "        if match:\n",
    "            return match.group(2)\n",
    "    elif '-' in text or '–' in text:\n",
    "        parts = re.split(r'[-–]', text)\n",
    "        return parts[-1].strip()\n",
    "    elif ',' in text:\n",
    "        return text.split(',')[0].strip()  \n",
    "    elif '\"' in text:\n",
    "        match = re.search(r'\"([^\"]+)\"', text)\n",
    "        if match:\n",
    "            return match.group(1)\n",
    "    else:\n",
    "        return text"
   ]
  },
  {
   "cell_type": "code",
   "execution_count": 15,
   "id": "b9fa22f8",
   "metadata": {},
   "outputs": [],
   "source": [
    "def extract_remaining_text_2(text):\n",
    "    if '\"' in text:\n",
    "        if '-' in text or '–' in text:\n",
    "            return text.split('-')[0].split('–')[0].strip()\n",
    "        else:\n",
    "            return text.strip('\"')\n",
    "    elif '-' in text or '–' in text:\n",
    "        return text.split('-')[0].split('–')[0].strip()\n",
    "    else:\n",
    "        return text.strip()"
   ]
  },
  {
   "cell_type": "code",
   "execution_count": 16,
   "id": "0717df6b",
   "metadata": {},
   "outputs": [],
   "source": [
    "BillboardMusicAwards.loc[(BillboardMusicAwards['Year'] >= 2013) & (BillboardMusicAwards['Year'] <= 2019), 'Remaining_Text'] = BillboardMusicAwards.loc[(BillboardMusicAwards['Year'] >= 2013) & (BillboardMusicAwards['Year'] <= 2019), 'Winner'].apply(extract_remaining_text_1)\n",
    "BillboardMusicAwards.loc[(BillboardMusicAwards['Year'] >= 2020) & (BillboardMusicAwards['Year'] <= 2023), 'Remaining_Text'] = BillboardMusicAwards.loc[(BillboardMusicAwards['Year'] >= 2020) & (BillboardMusicAwards['Year'] <= 2023), 'Winner'].apply(extract_remaining_text_2)"
   ]
  },
  {
   "cell_type": "markdown",
   "id": "49945dbc",
   "metadata": {},
   "source": [
    "Split featuring e artist"
   ]
  },
  {
   "cell_type": "code",
   "execution_count": 17,
   "id": "56b4d127",
   "metadata": {},
   "outputs": [],
   "source": [
    "def split_remaining_text(remaining_text):\n",
    "    if remaining_text:\n",
    "        if \"featuring\" in remaining_text.lower() or \"feat\" in remaining_text.lower() or \"ft.\" in remaining_text.lower():\n",
    "            featuring_index = remaining_text.lower().find(\"featuring\")\n",
    "            feat_index = remaining_text.lower().find(\"feat\")\n",
    "            ft_index = remaining_text.lower().find(\"ft.\")\n",
    "            \n",
    "            feat_start_index = max(feat_index, featuring_index,ft_index)\n",
    "            featuring_text = remaining_text[feat_start_index:].replace(\"featuring\", \"\").replace(\"feat\", \"\").replace(\"ft.\", \"\").strip()\n",
    "            \n",
    "            artist_text = remaining_text[:feat_start_index].strip()\n",
    "        else:\n",
    "            featuring_text = None\n",
    "            artist_text = remaining_text.strip()\n",
    "    else:\n",
    "        featuring_text = None\n",
    "        artist_text = None\n",
    "\n",
    "    return featuring_text, artist_text\n",
    "\n",
    "BillboardMusicAwards['Featuring'], BillboardMusicAwards['Artist'] = zip(*BillboardMusicAwards['Remaining_Text'].apply(split_remaining_text))"
   ]
  },
  {
   "cell_type": "code",
   "execution_count": 18,
   "id": "99b1e3d5",
   "metadata": {},
   "outputs": [],
   "source": [
    "def clean_featuring(text):\n",
    "    if text is None:\n",
    "        return None\n",
    "    cleaned_text = re.sub(r'\\(.*?\\)', '', text)  \n",
    "    cleaned_text = re.sub(r'\\).*$', '', cleaned_text)  \n",
    "    cleaned_text = re.sub(r'feat\\.', '', cleaned_text)  \n",
    "    cleaned_text = re.sub(r'^\\.', '', cleaned_text)  \n",
    "    return cleaned_text.strip()  \n",
    "\n",
    "BillboardMusicAwards['Featuring'] = BillboardMusicAwards['Featuring'].apply(clean_featuring)"
   ]
  },
  {
   "cell_type": "code",
   "execution_count": 19,
   "id": "eb586a04",
   "metadata": {},
   "outputs": [],
   "source": [
    "def clean_artist(text):\n",
    "    if text is None:\n",
    "        return None\n",
    "    cleaned_text = text.replace('(', '')  \n",
    "    cleaned_text = cleaned_text.replace(')', '')  \n",
    "    return cleaned_text\n",
    "\n",
    "BillboardMusicAwards['Artist'] = BillboardMusicAwards['Artist'].apply(clean_artist)"
   ]
  },
  {
   "cell_type": "code",
   "execution_count": 20,
   "id": "0dc06f4a",
   "metadata": {},
   "outputs": [],
   "source": [
    "BillboardMusicAwards.drop(columns=['Remaining_Text'], inplace=True)"
   ]
  },
  {
   "cell_type": "markdown",
   "id": "bfa8787f",
   "metadata": {},
   "source": [
    "Split the artists"
   ]
  },
  {
   "cell_type": "code",
   "execution_count": 21,
   "id": "d2c277ad",
   "metadata": {},
   "outputs": [],
   "source": [
    "BillboardMusicAwards_tosplit = BillboardMusicAwards[BillboardMusicAwards['Year'] != 2014]"
   ]
  },
  {
   "cell_type": "code",
   "execution_count": 22,
   "id": "3b6eca27",
   "metadata": {},
   "outputs": [
    {
     "name": "stderr",
     "output_type": "stream",
     "text": [
      "C:\\Users\\fspor\\AppData\\Local\\Temp\\ipykernel_23120\\3977235794.py:8: SettingWithCopyWarning: \n",
      "A value is trying to be set on a copy of a slice from a DataFrame.\n",
      "Try using .loc[row_indexer,col_indexer] = value instead\n",
      "\n",
      "See the caveats in the documentation: https://pandas.pydata.org/pandas-docs/stable/user_guide/indexing.html#returning-a-view-versus-a-copy\n",
      "  df.at[index, f'Artist {i}'] = artist.strip()\n",
      "C:\\Users\\fspor\\AppData\\Local\\Temp\\ipykernel_23120\\3977235794.py:8: SettingWithCopyWarning: \n",
      "A value is trying to be set on a copy of a slice from a DataFrame.\n",
      "Try using .loc[row_indexer,col_indexer] = value instead\n",
      "\n",
      "See the caveats in the documentation: https://pandas.pydata.org/pandas-docs/stable/user_guide/indexing.html#returning-a-view-versus-a-copy\n",
      "  df.at[index, f'Artist {i}'] = artist.strip()\n",
      "C:\\Users\\fspor\\AppData\\Local\\Temp\\ipykernel_23120\\3977235794.py:8: SettingWithCopyWarning: \n",
      "A value is trying to be set on a copy of a slice from a DataFrame.\n",
      "Try using .loc[row_indexer,col_indexer] = value instead\n",
      "\n",
      "See the caveats in the documentation: https://pandas.pydata.org/pandas-docs/stable/user_guide/indexing.html#returning-a-view-versus-a-copy\n",
      "  df.at[index, f'Artist {i}'] = artist.strip()\n",
      "C:\\Users\\fspor\\AppData\\Local\\Temp\\ipykernel_23120\\3977235794.py:8: SettingWithCopyWarning: \n",
      "A value is trying to be set on a copy of a slice from a DataFrame.\n",
      "Try using .loc[row_indexer,col_indexer] = value instead\n",
      "\n",
      "See the caveats in the documentation: https://pandas.pydata.org/pandas-docs/stable/user_guide/indexing.html#returning-a-view-versus-a-copy\n",
      "  df.at[index, f'Artist {i}'] = artist.strip()\n",
      "C:\\Users\\fspor\\AppData\\Local\\Temp\\ipykernel_23120\\3977235794.py:8: SettingWithCopyWarning: \n",
      "A value is trying to be set on a copy of a slice from a DataFrame.\n",
      "Try using .loc[row_indexer,col_indexer] = value instead\n",
      "\n",
      "See the caveats in the documentation: https://pandas.pydata.org/pandas-docs/stable/user_guide/indexing.html#returning-a-view-versus-a-copy\n",
      "  df.at[index, f'Artist {i}'] = artist.strip()\n",
      "C:\\Users\\fspor\\AppData\\Local\\Temp\\ipykernel_23120\\3977235794.py:8: SettingWithCopyWarning: \n",
      "A value is trying to be set on a copy of a slice from a DataFrame.\n",
      "Try using .loc[row_indexer,col_indexer] = value instead\n",
      "\n",
      "See the caveats in the documentation: https://pandas.pydata.org/pandas-docs/stable/user_guide/indexing.html#returning-a-view-versus-a-copy\n",
      "  df.at[index, f'Artist {i}'] = artist.strip()\n",
      "C:\\Users\\fspor\\AppData\\Local\\Temp\\ipykernel_23120\\3977235794.py:9: SettingWithCopyWarning: \n",
      "A value is trying to be set on a copy of a slice from a DataFrame\n",
      "\n",
      "See the caveats in the documentation: https://pandas.pydata.org/pandas-docs/stable/user_guide/indexing.html#returning-a-view-versus-a-copy\n",
      "  df.drop(columns=[column_name], inplace=True)\n"
     ]
    }
   ],
   "source": [
    "def split_artists(df, column_name):\n",
    "    artist_count = 1\n",
    "    \n",
    "    for index, row in df.iterrows():\n",
    "        if pd.notna(row[column_name]):\n",
    "            artists = re.split(r'[,&]|(?:\\sand\\s)|\\swith\\s', row[column_name])\n",
    "            for i, artist in enumerate(artists, start=1):\n",
    "                df.at[index, f'Artist {i}'] = artist.strip()\n",
    "    df.drop(columns=[column_name], inplace=True)\n",
    "    \n",
    "    return df\n",
    "\n",
    "\n",
    "BillboardMusicAwards_splitted = split_artists(BillboardMusicAwards_tosplit, 'Artist')"
   ]
  },
  {
   "cell_type": "code",
   "execution_count": 23,
   "id": "23de1679",
   "metadata": {},
   "outputs": [],
   "source": [
    "BillboardMusicAwards_2014 = BillboardMusicAwards[BillboardMusicAwards['Year'] == 2014]"
   ]
  },
  {
   "cell_type": "code",
   "execution_count": 24,
   "id": "b779f5b3",
   "metadata": {},
   "outputs": [],
   "source": [
    "BillboardMusicAwards_2014 = BillboardMusicAwards_2014.rename(columns={'Artist': 'Artist 1'})"
   ]
  },
  {
   "cell_type": "code",
   "execution_count": 25,
   "id": "be061184",
   "metadata": {},
   "outputs": [],
   "source": [
    "BillboardMusicAwards_new = pd.concat([BillboardMusicAwards_2014,BillboardMusicAwards_splitted])"
   ]
  },
  {
   "cell_type": "code",
   "execution_count": 26,
   "id": "2c024ad1",
   "metadata": {},
   "outputs": [],
   "source": [
    "# Manual row corrections\n",
    "BillboardMusicAwards_new.loc[153, 'Artist 1'] = 'BTS'\n",
    "BillboardMusicAwards_new.loc[467, 'Artist 1'] = 'Silk Sonic'\n",
    "BillboardMusicAwards_new.loc[148, 'Artist 1'] = 'The Chainsmokers'\n",
    "BillboardMusicAwards_new.loc[148, 'Featuring'] = 'Halsey'\n",
    "BillboardMusicAwards_new.loc[163, 'Artist 1'] = 'Kenny Chesney'\n",
    "BillboardMusicAwards_new.loc[163, 'Featuring'] = 'Pink'\n",
    "BillboardMusicAwards_new.loc[174, 'Artist 1'] = 'Drake'\n",
    "BillboardMusicAwards_new.loc[174, 'Featuring'] = 'WizKid & Kyla'\n",
    "BillboardMusicAwards_new.loc[179, 'Artist 1'] = 'Rae Sremmurd'\n",
    "BillboardMusicAwards_new.loc[179, 'Featuring'] = 'Gucci Mane'\n",
    "BillboardMusicAwards_new.loc[204, 'Artist 1'] = 'Luis Fonsi'\n",
    "BillboardMusicAwards_new.loc[204, 'Artist 2'] = 'Daddy Yankee'\n",
    "BillboardMusicAwards_new.loc[204, 'Featuring'] = 'Justin Bieber'\n",
    "BillboardMusicAwards_new.loc[354, 'Artist 1'] = 'Ellie Goulding'\n",
    "BillboardMusicAwards_new.loc[354, 'Artist 2'] = 'Diplo'"
   ]
  },
  {
   "cell_type": "code",
   "execution_count": 27,
   "id": "4194500c",
   "metadata": {},
   "outputs": [],
   "source": [
    "BillboardMusicAwards_new['Category'] = BillboardMusicAwards_new['Category'].replace('Milestone Award (fan-voted)[6]', 'Milestone Award (fan-voted)')"
   ]
  },
  {
   "cell_type": "code",
   "execution_count": 28,
   "id": "e57f0ff0",
   "metadata": {},
   "outputs": [],
   "source": [
    "categorie_da_nullificare = [\n",
    "    \"Milestone Award (fan-voted)\",\n",
    "    \"Top Country Tour\",\n",
    "    \"Top R&B Tour\",\n",
    "    \"Top Rap Tour\",\n",
    "    \"Top Rock Tour\",\n",
    "    \"Top Soundtrack/Cast Album\",\n",
    "    \"Top Soundtrack\",\n",
    "    \"Top Tour\",\n",
    "    \"Top Latin Tour\"\n",
    "]\n",
    "\n",
    "for categoria in categorie_da_nullificare:\n",
    "    rows_to_nullify = BillboardMusicAwards_new[BillboardMusicAwards_new['Category'] == categoria]\n",
    "    \n",
    "    for index, row in rows_to_nullify.iterrows():\n",
    "        for colonna in BillboardMusicAwards_new.columns:\n",
    "            if colonna not in ['Category', 'Winner', 'Year', 'Competition']:\n",
    "                BillboardMusicAwards_new.at[index, colonna] = None"
   ]
  },
  {
   "cell_type": "code",
   "execution_count": 29,
   "id": "78e39ce6",
   "metadata": {},
   "outputs": [],
   "source": [
    "new_order = ['Category', 'Winner', 'Year', 'Competition', 'Song', 'Album', 'Artist 1', 'Artist 2', 'Artist 3', 'Artist 4', 'Artist 5', 'Artist 6', 'Featuring']\n",
    "\n",
    "BillboardMusicAwards_new = BillboardMusicAwards_new.reindex(columns=new_order)"
   ]
  },
  {
   "cell_type": "markdown",
   "id": "7d3688ba",
   "metadata": {},
   "source": [
    "### Save as csv file"
   ]
  },
  {
   "cell_type": "code",
   "execution_count": 30,
   "id": "a4a47bc4",
   "metadata": {},
   "outputs": [],
   "source": [
    "BillboardMusicAwards_new.to_csv('BMA_final.csv')"
   ]
  },
  {
   "cell_type": "markdown",
   "id": "3095fce5",
   "metadata": {},
   "source": [
    "# Analysis"
   ]
  },
  {
   "cell_type": "markdown",
   "id": "0631ca05",
   "metadata": {},
   "source": [
    "### Who is the most successful Artist?"
   ]
  },
  {
   "cell_type": "code",
   "execution_count": 31,
   "id": "9329192d",
   "metadata": {},
   "outputs": [
    {
     "name": "stdout",
     "output_type": "stream",
     "text": [
      "The most successful Artist is: Drake\n",
      "Number of Awards: 38\n"
     ]
    }
   ],
   "source": [
    "from collections import Counter\n",
    "\n",
    "artists_list = BillboardMusicAwards_new[['Artist 1', 'Artist 2', 'Artist 3','Artist 4', 'Artist 5', 'Artist 6']].values.ravel()\n",
    "artists_list = [artist for artist in artists_list if pd.notnull(artist)]  \n",
    "\n",
    "artist_counter = Counter(artists_list)\n",
    "most_successful_artist, most_successful_artist_count = artist_counter.most_common(1)[0]\n",
    "\n",
    "print(\"The most successful Artist is:\", most_successful_artist)\n",
    "print(\"Number of Awards:\", most_successful_artist_count)"
   ]
  },
  {
   "cell_type": "markdown",
   "id": "fa2b65ec",
   "metadata": {},
   "source": [
    "### Which is the most awarded Album?"
   ]
  },
  {
   "cell_type": "code",
   "execution_count": 32,
   "id": "ac7a0679",
   "metadata": {},
   "outputs": [
    {
     "name": "stdout",
     "output_type": "stream",
     "text": [
      "The most awarded Albums are: ['The 20/20 Experience ', 'One Thing at a Time', 'DAMN. ', 'Views ', 'Jesus Is King', 'Shoot for the Stars, Aim for the Moon', 'Traveller ', 'Scorpion ', 'Donda', 'How Can It Be ', 'Red ']\n",
      "Number of Awards: 2\n"
     ]
    }
   ],
   "source": [
    "album_counts = BillboardMusicAwards_new['Album'].value_counts()\n",
    "max_occurrences = album_counts.max()\n",
    "most_awarded_albums = album_counts[album_counts == max_occurrences].index.tolist()\n",
    "\n",
    "print(\"The most awarded Albums are:\", most_awarded_albums)\n",
    "print(\"Number of Awards:\", max_occurrences)"
   ]
  },
  {
   "cell_type": "markdown",
   "id": "ec26adc9",
   "metadata": {},
   "source": [
    "### Which is the most awarded song?"
   ]
  },
  {
   "cell_type": "code",
   "execution_count": 33,
   "id": "df00a7e5",
   "metadata": {},
   "outputs": [
    {
     "name": "stdout",
     "output_type": "stream",
     "text": [
      "The most awarded Songs are: ['Despacito', 'Stay']\n",
      "Number of Awards: 5\n"
     ]
    }
   ],
   "source": [
    "song_counts = BillboardMusicAwards_new['Song'].value_counts()\n",
    "max_occurrences = song_counts.max()\n",
    "most_awarded_songs = song_counts[song_counts == max_occurrences].index.tolist()\n",
    "\n",
    "print(\"The most awarded Songs are:\", most_awarded_songs)\n",
    "print(\"Number of Awards:\", max_occurrences)"
   ]
  },
  {
   "cell_type": "markdown",
   "id": "60f5a625",
   "metadata": {},
   "source": [
    "### Which artist has made the greatest contribution to the victory?"
   ]
  },
  {
   "cell_type": "code",
   "execution_count": 34,
   "id": "5e73e6cf",
   "metadata": {},
   "outputs": [
    {
     "name": "stdout",
     "output_type": "stream",
     "text": [
      "The Artist who did the highest number of Featuring collaborations is: ['Justin Bieber']\n",
      "Number of Awards: 5\n"
     ]
    }
   ],
   "source": [
    "featuring_counts = BillboardMusicAwards_new['Featuring'].value_counts()\n",
    "max_occurrences = featuring_counts.max()\n",
    "most_frequent_featurings = featuring_counts[featuring_counts == max_occurrences].index.tolist()\n",
    "\n",
    "print(\"The Artist who did the highest number of Featuring collaborations is:\", most_frequent_featurings)\n",
    "print(\"Number of Awards:\", max_occurrences)\n"
   ]
  },
  {
   "cell_type": "markdown",
   "id": "e2683433",
   "metadata": {},
   "source": [
    "### In which year were the categories most inclusive?"
   ]
  },
  {
   "cell_type": "code",
   "execution_count": 35,
   "id": "f285eff6",
   "metadata": {},
   "outputs": [
    {
     "name": "stdout",
     "output_type": "stream",
     "text": [
      "The most inclusive Year is: [2023]\n",
      "Number of Categories: 69\n"
     ]
    }
   ],
   "source": [
    "year_counts = BillboardMusicAwards_new['Year'].value_counts()\n",
    "max_occurrences = year_counts.max()\n",
    "most_inclusive_years = year_counts[year_counts == max_occurrences].index.tolist()\n",
    "\n",
    "print(\"The most inclusive Year is:\", most_inclusive_years)\n",
    "print(\"Number of Categories:\", max_occurrences)\n",
    "\n"
   ]
  }
 ],
 "metadata": {
  "kernelspec": {
   "display_name": "Python 3 (ipykernel)",
   "language": "python",
   "name": "python3"
  },
  "language_info": {
   "codemirror_mode": {
    "name": "ipython",
    "version": 3
   },
   "file_extension": ".py",
   "mimetype": "text/x-python",
   "name": "python",
   "nbconvert_exporter": "python",
   "pygments_lexer": "ipython3",
   "version": "3.11.4"
  }
 },
 "nbformat": 4,
 "nbformat_minor": 5
}
